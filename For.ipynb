{
 "cells": [
  {
   "cell_type": "code",
   "execution_count": 1,
   "id": "12103aec-14c5-4e9f-bbd2-1e75c8040620",
   "metadata": {},
   "outputs": [],
   "source": [
    "my_list = [10,20,30,40,50,60]"
   ]
  },
  {
   "cell_type": "code",
   "execution_count": 3,
   "id": "d796de7f-49c7-4343-bc92-ae31a36e0876",
   "metadata": {},
   "outputs": [
    {
     "name": "stdout",
     "output_type": "stream",
     "text": [
      "4.0\n",
      "8.0\n",
      "12.0\n",
      "16.0\n",
      "20.0\n",
      "24.0\n"
     ]
    }
   ],
   "source": [
    "for number in my_list:\n",
    "    print(number /5 *2)"
   ]
  },
  {
   "cell_type": "code",
   "execution_count": 23,
   "id": "a19ba795-f153-4b68-a868-b86216de1779",
   "metadata": {},
   "outputs": [],
   "source": [
    "my_List = [ 10,20,30,40,50,60,70]"
   ]
  },
  {
   "cell_type": "code",
   "execution_count": 27,
   "id": "2de5a28b-4902-45c4-b22b-0f9a14609023",
   "metadata": {},
   "outputs": [
    {
     "name": "stdout",
     "output_type": "stream",
     "text": [
      "30\n",
      "60\n"
     ]
    }
   ],
   "source": [
    "for number in my_List:\n",
    "    if number % 6 == 0:\n",
    "        print(number)"
   ]
  },
  {
   "cell_type": "code",
   "execution_count": 30,
   "id": "e1f7ea4f-d304-479e-8b11-e1f8867d024c",
   "metadata": {},
   "outputs": [],
   "source": [
    "my_List = [ 10,20,30,40,50,60,70]"
   ]
  },
  {
   "cell_type": "code",
   "execution_count": 32,
   "id": "ad0b8abf-31bc-481f-8bb2-ea99403aef02",
   "metadata": {},
   "outputs": [
    {
     "name": "stdout",
     "output_type": "stream",
     "text": [
      "10\n",
      "20\n",
      "30\n",
      "40\n",
      "50\n",
      "60\n",
      "70\n"
     ]
    }
   ],
   "source": [
    "for num in my_List:\n",
    "    if num %2 == 0:\n",
    "        print(num)"
   ]
  },
  {
   "cell_type": "code",
   "execution_count": 34,
   "id": "2168e6ee-74ce-4727-8909-fb57a1940708",
   "metadata": {},
   "outputs": [],
   "source": [
    "my_string = \"ece kiris\""
   ]
  },
  {
   "cell_type": "code",
   "execution_count": 36,
   "id": "44fb3b90-3198-44d2-bca4-4f73f6bb3cdc",
   "metadata": {},
   "outputs": [
    {
     "name": "stdout",
     "output_type": "stream",
     "text": [
      "e\n",
      "c\n",
      "e\n",
      " \n",
      "k\n",
      "i\n",
      "r\n",
      "i\n",
      "s\n"
     ]
    }
   ],
   "source": [
    "for c in my_string:\n",
    "    print(c)"
   ]
  },
  {
   "cell_type": "code",
   "execution_count": 38,
   "id": "0f913786-e97a-414b-a96b-1611002d0cf8",
   "metadata": {},
   "outputs": [],
   "source": [
    "#tuple"
   ]
  },
  {
   "cell_type": "code",
   "execution_count": 40,
   "id": "479b9232-15b3-47fa-947d-88808caaa651",
   "metadata": {},
   "outputs": [],
   "source": [
    "my_tuple = (10,20,30,40,50,60)\n"
   ]
  },
  {
   "cell_type": "code",
   "execution_count": 44,
   "id": "3147464f-07d1-402b-bc95-48a880f3ed4a",
   "metadata": {},
   "outputs": [
    {
     "name": "stdout",
     "output_type": "stream",
     "text": [
      "4.0\n",
      "8.0\n",
      "12.0\n",
      "16.0\n",
      "20.0\n",
      "24.0\n"
     ]
    }
   ],
   "source": [
    "for num in my_tuple:\n",
    "    print( num / 5 *2)"
   ]
  },
  {
   "cell_type": "code",
   "execution_count": 46,
   "id": "ea923ac6-0c9c-4a83-a429-b674e334fb2e",
   "metadata": {},
   "outputs": [],
   "source": [
    "my_new_list = [(\"a\",\"b\"),(\"c\",\"d\"),(\"e\",\"f\"),(\"g\",\"h\")]"
   ]
  },
  {
   "cell_type": "code",
   "execution_count": 48,
   "id": "16cdede3-44a4-493c-90a3-83813f637bdd",
   "metadata": {},
   "outputs": [
    {
     "data": {
      "text/plain": [
       "('a', 'b')"
      ]
     },
     "execution_count": 48,
     "metadata": {},
     "output_type": "execute_result"
    }
   ],
   "source": [
    "my_new_list[0]"
   ]
  },
  {
   "cell_type": "code",
   "execution_count": 50,
   "id": "a1607f17-e744-457b-af43-f1212a8d3a49",
   "metadata": {},
   "outputs": [
    {
     "name": "stdout",
     "output_type": "stream",
     "text": [
      "('a', 'b')\n",
      "('c', 'd')\n",
      "('e', 'f')\n",
      "('g', 'h')\n"
     ]
    }
   ],
   "source": [
    "for element in my_new_list:\n",
    "    print(element)"
   ]
  },
  {
   "cell_type": "code",
   "execution_count": 52,
   "id": "b29120ac-8afb-4f4d-98f6-20514e91ed60",
   "metadata": {},
   "outputs": [],
   "source": [
    "#tuple unpacking"
   ]
  },
  {
   "cell_type": "code",
   "execution_count": 56,
   "id": "52a03339-85e7-44b1-a3f7-da048bda41a3",
   "metadata": {},
   "outputs": [
    {
     "name": "stdout",
     "output_type": "stream",
     "text": [
      "a\n",
      "c\n",
      "e\n",
      "g\n"
     ]
    }
   ],
   "source": [
    "for (x,y) in my_new_list:\n",
    "    print(x)"
   ]
  },
  {
   "cell_type": "code",
   "execution_count": 58,
   "id": "b0e8c715-07f6-4762-beb8-80cbbc9da7bf",
   "metadata": {},
   "outputs": [],
   "source": [
    "my_tuple_list = [(0,1,2),(3,4,5),(6,7,8)]"
   ]
  },
  {
   "cell_type": "code",
   "execution_count": 62,
   "id": "0a0c4c0b-99c7-4298-9d50-8095f7f8eac0",
   "metadata": {},
   "outputs": [
    {
     "name": "stdout",
     "output_type": "stream",
     "text": [
      "0\n",
      "1\n",
      "2\n",
      "3\n",
      "4\n",
      "5\n",
      "6\n",
      "7\n",
      "8\n"
     ]
    }
   ],
   "source": [
    "for (x,y,z) in my_tuple_list:\n",
    "    print(x)\n",
    "    print(y)\n",
    "    print(z)"
   ]
  },
  {
   "cell_type": "code",
   "execution_count": 66,
   "id": "57c83661-00a5-485b-a2c3-ccac3aabf045",
   "metadata": {},
   "outputs": [],
   "source": [
    "my_set = {1,2,3,4,5}"
   ]
  },
  {
   "cell_type": "code",
   "execution_count": 68,
   "id": "67d8e600-b92d-4d49-a5e2-7139d900a685",
   "metadata": {},
   "outputs": [
    {
     "data": {
      "text/plain": [
       "set"
      ]
     },
     "execution_count": 68,
     "metadata": {},
     "output_type": "execute_result"
    }
   ],
   "source": [
    "type(my_set)"
   ]
  },
  {
   "cell_type": "code",
   "execution_count": 70,
   "id": "6a1c91d3-77af-4bc4-864d-84a5aab27cfa",
   "metadata": {},
   "outputs": [
    {
     "name": "stdout",
     "output_type": "stream",
     "text": [
      "1\n",
      "2\n",
      "3\n",
      "4\n",
      "5\n"
     ]
    }
   ],
   "source": [
    "for num in my_set:\n",
    "    print(num)"
   ]
  },
  {
   "cell_type": "code",
   "execution_count": 76,
   "id": "1af89e05-1bbc-435a-99cf-4f32024af787",
   "metadata": {},
   "outputs": [],
   "source": [
    "my_dictionary = { \"a1\":15,\"b1\":20, \"c1\":80}"
   ]
  },
  {
   "cell_type": "code",
   "execution_count": 80,
   "id": "cd2457c8-6216-4369-b130-c8189a599612",
   "metadata": {},
   "outputs": [
    {
     "name": "stdout",
     "output_type": "stream",
     "text": [
      "a1\n",
      "b1\n",
      "c1\n"
     ]
    }
   ],
   "source": [
    "for value in my_dictionary:\n",
    "    print(value)\n",
    "    "
   ]
  },
  {
   "cell_type": "code",
   "execution_count": 84,
   "id": "0c3a5568-627d-45a8-829a-81b86eba2c7e",
   "metadata": {},
   "outputs": [
    {
     "data": {
      "text/plain": [
       "dict_keys(['a1', 'b1', 'c1'])"
      ]
     },
     "execution_count": 84,
     "metadata": {},
     "output_type": "execute_result"
    }
   ],
   "source": [
    "my_dictionary.keys()"
   ]
  },
  {
   "cell_type": "code",
   "execution_count": 92,
   "id": "5a102b41-2230-473c-b462-951a59297ffb",
   "metadata": {},
   "outputs": [
    {
     "data": {
      "text/plain": [
       "dict_values([15, 20, 80])"
      ]
     },
     "execution_count": 92,
     "metadata": {},
     "output_type": "execute_result"
    }
   ],
   "source": [
    "my_dictionary.values()"
   ]
  },
  {
   "cell_type": "code",
   "execution_count": 96,
   "id": "8dbbf540-1432-4bcf-8efd-7b49fb280556",
   "metadata": {},
   "outputs": [
    {
     "name": "stdout",
     "output_type": "stream",
     "text": [
      "15\n",
      "20\n",
      "80\n"
     ]
    }
   ],
   "source": [
    "for num in my_dictionary.values():\n",
    "    print(num)\n",
    "    "
   ]
  },
  {
   "cell_type": "code",
   "execution_count": 98,
   "id": "dc5bebb1-bcf9-4d40-a3a9-a15769fa8da6",
   "metadata": {},
   "outputs": [],
   "source": [
    "#continue - break -pass"
   ]
  },
  {
   "cell_type": "code",
   "execution_count": 100,
   "id": "86c823fb-884b-44b0-b997-e88106a49c46",
   "metadata": {},
   "outputs": [],
   "source": [
    "my_list = [ 10,20,30,40,50,60,70]"
   ]
  },
  {
   "cell_type": "code",
   "execution_count": 102,
   "id": "f32065c9-12ce-46a3-b654-55cbd33b676b",
   "metadata": {},
   "outputs": [
    {
     "name": "stdout",
     "output_type": "stream",
     "text": [
      "for loop started\n",
      "10\n",
      "20\n",
      "30\n",
      "40\n",
      "50\n",
      "60\n",
      "70\n",
      "for loop finished\n"
     ]
    }
   ],
   "source": [
    "print(\"for loop started\")\n",
    "for x in my_list:\n",
    "    print(x)\n",
    "print(\"for loop finished\")"
   ]
  },
  {
   "cell_type": "code",
   "execution_count": 110,
   "id": "e8fd6d61-8318-4c6d-bbc7-72a7cafd77b0",
   "metadata": {},
   "outputs": [
    {
     "name": "stdout",
     "output_type": "stream",
     "text": [
      "10\n",
      "20\n",
      "30\n",
      "40\n",
      "yes\n"
     ]
    }
   ],
   "source": [
    "for k in my_list:                                #icindeki degeri kontrol etme\n",
    "    print(k)\n",
    "    if k == 40:\n",
    "        print(\"yes\")\n",
    "        break "
   ]
  },
  {
   "cell_type": "code",
   "execution_count": 122,
   "id": "03a5f463-009e-4859-9b15-1465bcb925e4",
   "metadata": {},
   "outputs": [],
   "source": [
    "my_list = [10,20,30,40,50,60,70,80]"
   ]
  },
  {
   "cell_type": "code",
   "execution_count": 128,
   "id": "384dd538-0de5-46c9-91e5-5712993fbac6",
   "metadata": {},
   "outputs": [
    {
     "name": "stdout",
     "output_type": "stream",
     "text": [
      "10\n",
      "20\n",
      "30\n",
      "50\n",
      "60\n",
      "70\n",
      "80\n"
     ]
    }
   ],
   "source": [
    "for number in my_list:\n",
    "    if number == 40:\n",
    "        continue\n",
    "    print(number)"
   ]
  },
  {
   "cell_type": "code",
   "execution_count": null,
   "id": "c83dfe4b-44e4-42d9-8721-c0441c319fbd",
   "metadata": {},
   "outputs": [],
   "source": []
  }
 ],
 "metadata": {
  "kernelspec": {
   "display_name": "Python 3 (ipykernel)",
   "language": "python",
   "name": "python3"
  },
  "language_info": {
   "codemirror_mode": {
    "name": "ipython",
    "version": 3
   },
   "file_extension": ".py",
   "mimetype": "text/x-python",
   "name": "python",
   "nbconvert_exporter": "python",
   "pygments_lexer": "ipython3",
   "version": "3.12.7"
  }
 },
 "nbformat": 4,
 "nbformat_minor": 5
}
